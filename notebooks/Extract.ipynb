{
 "cells": [
  {
   "cell_type": "code",
   "execution_count": 1,
   "metadata": {},
   "outputs": [],
   "source": [
    "import seaborn as sns\n",
    "import metapack as mp\n",
    "import pandas as pd\n",
    "import numpy as np\n",
    "import matplotlib.pyplot as plt\n",
    "from IPython.display import display \n",
    "\n",
    "%matplotlib inline\n",
    "sns.set_context('notebook')\n",
    "mp.jupyter.init()\n",
    "\n",
    "%run ./lib.py"
   ]
  },
  {
   "cell_type": "code",
   "execution_count": 2,
   "metadata": {},
   "outputs": [
    {
     "data": {
      "text/html": [
       "<h1>SIPP Inequality Extract</h1>\n",
       "<p><code>census.gov-sipp-inequality-1.1.1</code> Last Update: 2021-01-02T00:32:12</p>\n",
       "<p><em>Select columns from SIPP for studies of income and wealth inequailty</em></p>\n",
       "<p>An extract of columns from the 2018 SIPP data, focused on income, poverty and correlates.</p>\n",
       "<h2>Contacts</h2>\n",
       "<ul>\n",
       "<li><strong>Wrangler</strong> <a href=\"mailto:eric@civicknowledge.com\">Eric Busboom</a>, <a href=\"http://civicknowledge.com\">Civic Knowledge</a></li>\n",
       "</ul>\n",
       "<h2>Resources</h2>\n",
       "<ul>\n",
       "<li><strong> <a href=\"notebooks/Extract.ipynb#df\">sipp_18</a></strong>. SIPP Inequality extract, 2018</li>\n",
       "</ul>\n",
       "<h2>References</h2>\n",
       "<p><ul><li> <strong>SIPP</string>, <em>metapack+http://library.metatab.org/census.gov-sipp.csv</em>. SIPP Data package</li><ul></p>"
      ],
      "text/plain": [
       "# SIPP Inequality Extract\n",
       "`census.gov-sipp-inequality-1.1.1` Last Update: 2021-01-02T00:32:12\n",
       "\n",
       "_Select columns from SIPP for studies of income and wealth inequailty_\n",
       "\n",
       "\n",
       "An extract of columns from the 2018 SIPP data, focused on income, poverty and correlates.\n",
       "\n",
       "\n",
       " \n",
       "\n",
       "## Contacts\n",
       "\n",
       "* **Wrangler** [Eric Busboom](mailto:eric@civicknowledge.com), [Civic Knowledge](http://civicknowledge.com)\n",
       "\n",
       "## Resources\n",
       "\n",
       "* ** [sipp_18](notebooks/Extract.ipynb#df)**. SIPP Inequality extract, 2018\n",
       "\n",
       "## References\n",
       "<ul><li> <strong>SIPP</string>, <em>metapack+http://library.metatab.org/census.gov-sipp.csv</em>. SIPP Data package</li><ul>\n"
      ]
     },
     "execution_count": 2,
     "metadata": {},
     "output_type": "execute_result"
    }
   ],
   "source": [
    "#pkg = mp.jupyter.open_package()\n",
    "pkg = mp.jupyter.open_source_package()\n",
    "pkg"
   ]
  },
  {
   "cell_type": "code",
   "execution_count": 3,
   "metadata": {},
   "outputs": [
    {
     "data": {
      "text/html": [
       "<h1>Survey of Income and Program Participation</h1>\n",
       "<p><code>census.gov-sipp-1.1.1</code> Last Update: 2020-12-28T19:45:33</p>\n",
       "<p><em>SIPP collects data and measures change for many topics including: economic well- being, family dynamics, education, assets, health insurance, childcare, and food security.</em></p>\n",
       "<p>SIPP is the premier source of information for income and program participation. SIPP\n",
       "collects data and measures change for many topics including: economic well-being,\n",
       "family dynamics, education, assets, health insurance, childcare, and food security.</p>\n",
       "<p>Theis data package collects links to the SIP website and main data files. It does not include any data.</p>\n",
       "<h2>Documentation Links</h2>\n",
       "<ul>\n",
       "<li><a href=\"http://library.metatab.org/census.gov-sipp-1.1.1/index.html\">Documentation Page</a> </li>\n",
       "<li><a href=\"https://www.census.gov/programs-surveys/sipp.html\">Program home page</a> </li>\n",
       "<li><a href=\"https://www.census.gov/programs-surveys/sipp/data/datasets/2018-data/2018.html\">2018 data page</a> </li>\n",
       "</ul>\n",
       "<h2>Contacts</h2>\n",
       "<ul>\n",
       "<li><strong>Wrangler</strong> <a href=\"mailto:eric@civicknowledge.com\">Eric Busboom</a>, <a href=\"http://civicknowledge.com\">Civic Knowledge</a></li>\n",
       "</ul>\n",
       "<h2>References</h2>\n",
       "<p><ul><li> <strong><a href=\"https://www2.census.gov/programs-surveys/sipp/data/datasets/2018/pu2018_dta.zip#pu2018.dta\">pu2018_dta</a></strong>. 2018 SIPP primary data, stata format</li><li> <strong><a href=\"https://www2.census.gov/programs-surveys/sipp/data/datasets/2018/rw2018_sasdata.zip\">rw2018_dta</a></strong>. 2018 SIPP replicate weights, stata format</li><li> <strong><a href=\"https://www2.census.gov/programs-surveys/sipp/data/datasets/2018/pu2018_csv.zip\">pu2018_csv</a></strong>. 2018 SIPP primary data, CSV format</li><li> <strong><a href=\"https://www2.census.gov/programs-surveys/sipp/data/datasets/2018/rw2018_csv.zip\">rw2018_csv</a></strong>. 2018 SIPP replicate weights, CSV format</li><li> <strong><a href=\"https://www2.census.gov/programs-surveys/sipp/data/datasets/2018/pu2018_schema.json\">pu2018_schema</a></strong>. 2018 Primary data schema</li><li> <strong><a href=\"https://www2.census.gov/programs-surveys/sipp/data/datasets/2018/rw2018_schema.json\">rw2018_schema</a></strong>. 2018 Replicate weights schema</li><ul></p>"
      ],
      "text/plain": [
       "# Survey of Income and Program Participation\n",
       "`census.gov-sipp-1.1.1` Last Update: 2020-12-28T19:45:33\n",
       "\n",
       "_SIPP collects data and measures change for many topics including: economic well- being, family dynamics, education, assets, health insurance, childcare, and food security._\n",
       "\n",
       "\n",
       "SIPP is the premier source of information for income and program participation. SIPP\n",
       "collects data and measures change for many topics including: economic well-being,\n",
       "family dynamics, education, assets, health insurance, childcare, and food security.\n",
       "\n",
       "\n",
       "Theis data package collects links to the SIP website and main data files. It does not include any data.\n",
       "## Documentation Links\n",
       "\n",
       "* [Documentation Page](http://library.metatab.org/census.gov-sipp-1.1.1/index.html) \n",
       "* [Program home page](https://www.census.gov/programs-surveys/sipp.html) \n",
       "* [2018 data page](https://www.census.gov/programs-surveys/sipp/data/datasets/2018-data/2018.html) \n",
       "\n",
       " \n",
       "\n",
       "## Contacts\n",
       "\n",
       "* **Wrangler** [Eric Busboom](mailto:eric@civicknowledge.com), [Civic Knowledge](http://civicknowledge.com)\n",
       "\n",
       "\n",
       "## References\n",
       "<ul><li> <strong><a href=\"https://www2.census.gov/programs-surveys/sipp/data/datasets/2018/pu2018_dta.zip#pu2018.dta\">pu2018_dta</a></strong>. 2018 SIPP primary data, stata format</li><li> <strong><a href=\"https://www2.census.gov/programs-surveys/sipp/data/datasets/2018/rw2018_sasdata.zip\">rw2018_dta</a></strong>. 2018 SIPP replicate weights, stata format</li><li> <strong><a href=\"https://www2.census.gov/programs-surveys/sipp/data/datasets/2018/pu2018_csv.zip\">pu2018_csv</a></strong>. 2018 SIPP primary data, CSV format</li><li> <strong><a href=\"https://www2.census.gov/programs-surveys/sipp/data/datasets/2018/rw2018_csv.zip\">rw2018_csv</a></strong>. 2018 SIPP replicate weights, CSV format</li><li> <strong><a href=\"https://www2.census.gov/programs-surveys/sipp/data/datasets/2018/pu2018_schema.json\">pu2018_schema</a></strong>. 2018 Primary data schema</li><li> <strong><a href=\"https://www2.census.gov/programs-surveys/sipp/data/datasets/2018/rw2018_schema.json\">rw2018_schema</a></strong>. 2018 Replicate weights schema</li><ul>\n"
      ]
     },
     "execution_count": 3,
     "metadata": {},
     "output_type": "execute_result"
    }
   ],
   "source": [
    "sipp = pkg.reference('SIPP').package\n",
    "sipp"
   ]
  },
  {
   "cell_type": "code",
   "execution_count": 4,
   "metadata": {},
   "outputs": [],
   "source": [
    "columns_by_group, col_label_map, dtype_map, col_set = get_metadata(sipp)\n"
   ]
  },
  {
   "cell_type": "code",
   "execution_count": 5,
   "metadata": {},
   "outputs": [],
   "source": [
    "\n",
    "# Get all of the data\n",
    "df = sipp.reference('pu2018_csv').read_csv(\n",
    "    sep='|',\n",
    "    usecols = [ c.upper() for c in list(col_set.column)],\n",
    "    dtype={c:dtype_map[c.upper()] for c in list(col_set.column) })"
   ]
  },
  {
   "cell_type": "code",
   "execution_count": 6,
   "metadata": {},
   "outputs": [],
   "source": [
    "df.columns = [c.lower() for c in df.columns]"
   ]
  },
  {
   "cell_type": "code",
   "execution_count": 7,
   "metadata": {},
   "outputs": [],
   "source": [
    "\n",
    "if False:\n",
    "    df_rw= pkg.reference('rw2018_csv').read_csv(sep='|')\n",
    "\n",
    "    #check these estimates against the validation xls file to help ensure that the data\n",
    "    #    were read in correctly. Note that the validation xls files do not include all variables\n",
    "    print('REPWT100 mean:' + str(df_rw.REPWGT100.mean()))\n",
    "\n",
    "    #Merge data and replicate weights on SSUID, PNUM, MONTHCODE\n",
    "    df = df.merge(df_rw, on=['ssuid','pnum','monthcore'])\\\n",
    "                .rename(columns={'swave_x':'swave', 'spane;_x':'spanel'})\n",
    "    \n",
    " \n",
    "\n",
    "def raceeth(r):\n",
    "    if r.eorigin == 1:\n",
    "        return 'hisp'\n",
    "    elif r.erace == 1:\n",
    "        return 'white'\n",
    "    elif r.erace == 2:\n",
    "        return 'black'\n",
    "    elif r.erace == 3:\n",
    "        return 'asian'\n",
    "    else:\n",
    "        return 'other'\n",
    "\n",
    "df['raceeth'] = df.apply(raceeth,axis=1)\n",
    "df['dummy'] = 1 # For counting\n",
    "\n",
    "df['rfamkind'] = df.rfamkind.fillna(0)\n",
    "\n",
    "# Convert the EEDUC categorical into years of education\n",
    "df['eeduc_years'] = df.eeduc.replace(eeduc_to_years) # eeduc_to_years is in ./lib.py\n",
    "\n",
    "# Cache the file for other notebooks. \n",
    "df.to_feather('../data/inequality.feather')"
   ]
  },
  {
   "cell_type": "code",
   "execution_count": 8,
   "metadata": {},
   "outputs": [
    {
     "data": {
      "text/html": [
       "<h3><a name=\"resource-sipp_18\"></a>sipp_18</h3><p><a target=\"_blank\" href=\"file:///Users/eric/proj/data-projects/metatab-packages/inequality-collection/census.gov-sipp-inequality/notebooks/Extract.ipynb#df\">file:///Users/eric/proj/data-projects/metatab-packages/inequality-collection/census.gov-sipp-inequality/notebooks/Extract.ipynb#df</a></p><table>\n",
       "<tr><th>Header</th><th>Type</th><th>Description</th></tr><tr><td>ssuid</td><td>integer</td><td>Sample unit identifier. This identifier is created by scrambling together PSU, Sequence #1, Sequence #2, and the Frame Indicator for a case. It may be used in matching sample units from different waves.</td></tr> \n",
       "<tr><td>spanel</td><td>integer</td><td>Panel year</td></tr> \n",
       "<tr><td>swave</td><td>integer</td><td>Wave number of interview</td></tr> \n",
       "<tr><td>efood1</td><td>integer</td><td>The food you bought did not last?</td></tr> \n",
       "<tr><td>efood6</td><td>integer</td><td>In 2017, were you ever hungry but didn't eat because there wasn't enough money for food?</td></tr> \n",
       "<tr><td>eawbsafe</td><td>integer</td><td>Is ... neighborhood safe from crime?</td></tr> \n",
       "<tr><td>pnum</td><td>integer</td><td>Person number</td></tr> \n",
       "<tr><td>ems</td><td>integer</td><td>Is ... currently married, widowed, divorced, separated, or never married?</td></tr> \n",
       "<tr><td>erelrpe</td><td>integer</td><td>Household relationship (detailed categories)</td></tr> \n",
       "<tr><td>esex</td><td>integer</td><td>Sex of this person</td></tr> \n",
       "<tr><td>eorigin</td><td>integer</td><td>Is ... Spanish, Hispanic, or Latino?</td></tr> \n",
       "<tr><td>erace</td><td>integer</td><td>What race(s) does ... consider herself/himself to be?</td></tr> \n",
       "<tr><td>eeduc</td><td>integer</td><td>What is the highest level of school ... completed or the highest degree received by December of (reference year)?</td></tr> \n",
       "<tr><td>ebornus</td><td>integer</td><td>Where was ... born?</td></tr> \n",
       "<tr><td>exmar</td><td>integer</td><td>Number of times married</td></tr> \n",
       "<tr><td>rpar1sex</td><td>integer</td><td>Parent 1 sex at interview month</td></tr> \n",
       "<tr><td>rpar2sex</td><td>integer</td><td>Parent 2 sex at interview month</td></tr> \n",
       "<tr><td>eprocert</td><td>integer</td><td>Has...earned a professional certification or license?</td></tr> \n",
       "<tr><td>efood_sr1yn</td><td>integer</td><td>Did ... receive assistance from a government social service agency?</td></tr> \n",
       "<tr><td>rlunch_chld</td><td>integer</td><td>Did child usually get the school lunch that his/her school provided?</td></tr> \n",
       "<tr><td>rbreak_chld</td><td>integer</td><td>Did child usually get the school breakfast that his/her school provided?</td></tr> \n",
       "<tr><td>rsnap_yryn</td><td>integer</td><td>Received SNAP benefits in at least one month of the reference period</td></tr> \n",
       "<tr><td>ejseddebt</td><td>integer</td><td>Owed any money for student loans or educational expenses jointly with a spouse or civil union partner during the reference period.</td></tr> \n",
       "<tr><td>eoeddebt</td><td>integer</td><td>Owed any money for student loans or educational expenses in own name only during the reference period.</td></tr> \n",
       "<tr><td>edinrpar</td><td>integer</td><td>How many days in a typical week did reference parent eat dinner with child/children?</td></tr> \n",
       "<tr><td>rdinrpar</td><td>integer</td><td>Number of times reference parent had dinner with child 0-17.</td></tr> \n",
       "<tr><td>rdinrop</td><td>integer</td><td>Number of times other parent had dinner with child 0-17.</td></tr> \n",
       "<tr><td>rgetby</td><td>integer</td><td>Child does just enough to get by</td></tr> \n",
       "<tr><td>eexpsch</td><td>integer</td><td>Child/children ever been suspended or expelled from school?</td></tr> \n",
       "<tr><td>rexpsch</td><td>integer</td><td>Child was expelled</td></tr> \n",
       "<tr><td>egifted</td><td>integer</td><td>Child/children in gifted class/classes.</td></tr> \n",
       "<tr><td>rlesson</td><td>integer</td><td>Child takes lessons</td></tr> \n",
       "<tr><td>empf</td><td>integer</td><td>Do you have children with more than one partner?</td></tr> \n",
       "<tr><td>epnspouse</td><td>integer</td><td>Person number of spouse</td></tr> \n",
       "<tr><td>epnpar2</td><td>integer</td><td>Person number of parent 2</td></tr> \n",
       "<tr><td>epnpar1</td><td>integer</td><td>Person number of parent 1</td></tr> \n",
       "<tr><td>epar1typ</td><td>integer</td><td>Type of relationship to parent 1</td></tr> \n",
       "<tr><td>epar2typ</td><td>integer</td><td>Type of relationship to parent 2</td></tr> \n",
       "<tr><td>monthcode</td><td>integer</td><td>Value of reference month</td></tr> \n",
       "<tr><td>wpfinwgt</td><td>number</td><td>Final person weight</td></tr> \n",
       "<tr><td>eresidenceid</td><td>integer</td><td>This field stores a unique six-digit identifier for residence addresses.</td></tr> \n",
       "<tr><td>rfamref</td><td>integer</td><td>Person number of the family reference person</td></tr> \n",
       "<tr><td>rfpersons</td><td>integer</td><td>Number of persons in family</td></tr> \n",
       "<tr><td>rfrelu18</td><td>integer</td><td>Number of persons in family under 18 years</td></tr> \n",
       "<tr><td>rfamkind</td><td>integer</td><td>Kind of family</td></tr> \n",
       "<tr><td>rhnumper</td><td>integer</td><td>Number of persons in household this month</td></tr> \n",
       "<tr><td>rhnum65over</td><td>integer</td><td>Number of persons in household 65 years and over this month</td></tr> \n",
       "<tr><td>rhnum65ovrt2</td><td>integer</td><td>Number of persons in household 65 years and over this month (with Type 2 persons)</td></tr> \n",
       "<tr><td>ejb1_wshmwrk</td><td>integer</td><td>Were there any days when ... worked only from home?</td></tr> \n",
       "<tr><td>ejb1_wsjob</td><td>integer</td><td>What is the best description of ... work schedule?</td></tr> \n",
       "<tr><td>efood_mnyn</td><td>integer</td><td>Did ... receive food assistance (not SNAP) this month (1-12)?</td></tr> \n",
       "<tr><td>rsnap_mnyn</td><td>integer</td><td>Received SNAP benefits this month</td></tr> \n",
       "<tr><td>rfpov</td><td>integer</td><td>Family poverty threshold in this month, excluding Type 2 individuals</td></tr> \n",
       "<tr><td>rhpov</td><td>integer</td><td>Household poverty threshold in this month, excluding Type 2 individuals</td></tr> \n",
       "<tr><td>rin_univ</td><td>integer</td><td>Monthly indicator that respondent is in survey frame universe</td></tr> \n",
       "<tr><td>tage_fb</td><td>integer</td><td>Age at first birth</td></tr> \n",
       "<tr><td>tprvlvqrt</td><td>integer</td><td>Type of living quarters for the residence.</td></tr> \n",
       "<tr><td>trace</td><td>integer</td><td>What race(s) does ... consider herself/himself to be? (detailed categories)</td></tr> \n",
       "<tr><td>tnum_cbu</td><td>integer</td><td>Number of child bearing unions</td></tr> \n",
       "<tr><td>thhldstatus</td><td>integer</td><td>Household status</td></tr> \n",
       "<tr><td>tjb1_pvtime</td><td>integer</td><td>What is ... one-way travel to work in minutes?</td></tr> \n",
       "<tr><td>toeddebtval</td><td>integer</td><td>Amount of student loans or educational expenses owed in own name only as of the last day of the reference period.</td></tr> \n",
       "<tr><td>tage</td><td>integer</td><td>Age as of last birthday</td></tr> \n",
       "<tr><td>tage_ehc</td><td>integer</td><td>Monthly age during the reference year.</td></tr> \n",
       "<tr><td>ttanf_amt</td><td>integer</td><td>Value of the TANF benefits received this month</td></tr> \n",
       "<tr><td>tmwkhrs</td><td>number</td><td>Average number of hours worked per week at all jobs held during the reference month.</td></tr> \n",
       "<tr><td>tpearn</td><td>integer</td><td>Sum of earnings and profits/losses from all jobs, varying with the number of days in the month (comparable to RPEARN in 1996, 2001, and 2014 SIPP panels).</td></tr> \n",
       "<tr><td>tdebt_ast</td><td>integer</td><td>Person-level sum of all debt (TDEBT_SEC, TDEBT_USEC).</td></tr> \n",
       "<tr><td>thinc_stmf</td><td>integer</td><td>Household-level sum of income earned over the reference period from stocks and mutual funds (TINC_STMF) [this is household-level data, therefore this value is copied to every member of the household].</td></tr> \n",
       "<tr><td>thval_home</td><td>integer</td><td>Household-level sum of value of primary residence (TVAL_HOME) [this is household-level data, therefore this value is copied to every member of the household].</td></tr> \n",
       "<tr><td>thval_ast</td><td>integer</td><td>Household-level sum of all asset values (TVAL_AST) [this is household-level data, therefore this value is copied to every member of the household].</td></tr> \n",
       "<tr><td>thdebt_ast</td><td>integer</td><td>Household-level sum of all debt (TDEBT_AST) [this is household-level data, therefore this value is copied to every member of the household].</td></tr> \n",
       "<tr><td>thnetworth</td><td>integer</td><td>Household-level net worth [this is household-level data, therefore this value is copied to every member of the household].</td></tr> \n",
       "<tr><td>tptrninc</td><td>integer</td><td>Sum of monthly income received from means-tested transfer programs (including SSI, TANF, GA, and the Veterans Pension program)</td></tr> \n",
       "<tr><td>tptotinc</td><td>integer</td><td>Sum of personal monthly earnings and income for people age 15 and older, as well as children under age 15 who received SSI payments</td></tr> \n",
       "<tr><td>tfcyincpov</td><td>number</td><td>Family income-to-poverty ratio in this calendar year, excluding Type 2 individuals</td></tr> \n",
       "<tr><td>thcyincpov</td><td>number</td><td>Household income-to-poverty ratio in this calendar year, excluding Type 2 individuals</td></tr> \n",
       "<tr><td>raceeth</td><td>string</td><td>Rance / Ethnicity</td></tr> </table>"
      ],
      "text/plain": [
       "<Resource: metadata.csv 30:1 root.datafile notebooks/Extract.ipynb#df ['sipp_18', 'SIPP Inequality extract, 2018', '']>"
      ]
     },
     "execution_count": 8,
     "metadata": {},
     "output_type": "execute_result"
    }
   ],
   "source": [
    "for c in pkg.resource('sipp_18').schema_term.find('Table.Column'):\n",
    "    if not c.value:\n",
    "        c.description = col_label_map.get(c.value.upper(),'')\n",
    "    \n",
    "pkg.write()\n",
    "pkg = mp.jupyter.open_source_package()\n",
    "pkg.resource('sipp_18')"
   ]
  },
  {
   "cell_type": "code",
   "execution_count": 10,
   "metadata": {},
   "outputs": [
    {
     "data": {
      "text/plain": [
       "Index(['ssuid', 'spanel', 'swave', 'efood1', 'efood6', 'eawbsafe', 'pnum',\n",
       "       'ems', 'erelrpe', 'esex', 'eorigin', 'erace', 'eeduc', 'ebornus',\n",
       "       'exmar', 'rpar1sex', 'rpar2sex', 'eprocert', 'efood_sr1yn',\n",
       "       'rlunch_chld', 'rbreak_chld', 'rsnap_yryn', 'ejseddebt', 'eoeddebt',\n",
       "       'edinrpar', 'rdinrpar', 'rdinrop', 'rgetby', 'eexpsch', 'rexpsch',\n",
       "       'egifted', 'rlesson', 'empf', 'epnspouse', 'epnpar2', 'epnpar1',\n",
       "       'epar1typ', 'epar2typ', 'monthcode', 'wpfinwgt', 'eresidenceid',\n",
       "       'rfamref', 'rfpersons', 'rfrelu18', 'rfamkind', 'rhnumper',\n",
       "       'rhnum65over', 'rhnum65ovrt2', 'ejb1_wshmwrk', 'ejb1_wsjob',\n",
       "       'efood_mnyn', 'rsnap_mnyn', 'rfpov', 'rhpov', 'rin_univ', 'tage_fb',\n",
       "       'tprvlvqrt', 'trace', 'tnum_cbu', 'thhldstatus', 'tjb1_pvtime',\n",
       "       'toeddebtval', 'tage', 'tage_ehc', 'ttanf_amt', 'tmwkhrs', 'tpearn',\n",
       "       'tval_home', 'tval_ast', 'tdebt_ast', 'tnetworth', 'thinc_stmf',\n",
       "       'thval_home', 'thval_ast', 'thdebt_ast', 'thnetworth', 'tptrninc',\n",
       "       'tptotinc', 'thtotinc', 'tftotinc', 'tfcyincpov', 'thcyincpov',\n",
       "       'raceeth', 'dummy', 'eeduc_years'],\n",
       "      dtype='object')"
      ]
     },
     "execution_count": 10,
     "metadata": {},
     "output_type": "execute_result"
    }
   ],
   "source": [
    "df.columns"
   ]
  },
  {
   "cell_type": "code",
   "execution_count": null,
   "metadata": {},
   "outputs": [],
   "source": []
  }
 ],
 "metadata": {
  "kernelspec": {
   "display_name": "Python 3",
   "language": "python",
   "name": "python3"
  },
  "language_info": {
   "codemirror_mode": {
    "name": "ipython",
    "version": 3
   },
   "file_extension": ".py",
   "mimetype": "text/x-python",
   "name": "python",
   "nbconvert_exporter": "python",
   "pygments_lexer": "ipython3",
   "version": "3.7.6"
  }
 },
 "nbformat": 4,
 "nbformat_minor": 4
}
